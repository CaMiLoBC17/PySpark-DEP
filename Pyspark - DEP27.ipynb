{
  "nbformat": 4,
  "nbformat_minor": 0,
  "metadata": {
    "colab": {
      "provenance": []
    },
    "kernelspec": {
      "name": "python3",
      "display_name": "Python 3"
    },
    "language_info": {
      "name": "python"
    }
  },
  "cells": [
    {
      "cell_type": "code",
      "execution_count": 1,
      "metadata": {
        "id": "2v4KFiW_NICa"
      },
      "outputs": [],
      "source": [
        "from pyspark.sql import SparkSession\n",
        "from pyspark.sql.functions import col, avg, count, min, max, when, udf, sum\n",
        "from pyspark.sql.types import IntegerType\n",
        "\n",
        "spark = SparkSession.builder.master(\"local\").appName(\"PersonasDataFrame\").getOrCreate()"
      ]
    },
    {
      "cell_type": "code",
      "source": [
        "data = [(\"Alice\", 25, \"New York\"),\n",
        "        (\"Bob\", 30, \"Los Angeles\"),\n",
        "        (\"Charlie\", 22, \"Chicago\")]\n",
        "\n",
        "columns = [\"Nombre\", \"Edad\", \"Ciudad\"]\n",
        "\n",
        "df = spark.createDataFrame(data, columns)\n",
        "\n",
        "df.show()"
      ],
      "metadata": {
        "colab": {
          "base_uri": "https://localhost:8080/"
        },
        "id": "KaCM4dGUc5qC",
        "outputId": "8955e946-781f-44a2-bf27-61d39386bc1d"
      },
      "execution_count": 2,
      "outputs": [
        {
          "output_type": "stream",
          "name": "stdout",
          "text": [
            "+-------+----+-----------+\n",
            "| Nombre|Edad|     Ciudad|\n",
            "+-------+----+-----------+\n",
            "|  Alice|  25|   New York|\n",
            "|    Bob|  30|Los Angeles|\n",
            "|Charlie|  22|    Chicago|\n",
            "+-------+----+-----------+\n",
            "\n"
          ]
        }
      ]
    },
    {
      "cell_type": "code",
      "source": [
        "df.select(\"Nombre\").show()"
      ],
      "metadata": {
        "colab": {
          "base_uri": "https://localhost:8080/"
        },
        "id": "0YTmEZ9qc-C2",
        "outputId": "69bb6b0f-16ab-4f1d-a2e0-2a03d61dc68d"
      },
      "execution_count": 3,
      "outputs": [
        {
          "output_type": "stream",
          "name": "stdout",
          "text": [
            "+-------+\n",
            "| Nombre|\n",
            "+-------+\n",
            "|  Alice|\n",
            "|    Bob|\n",
            "|Charlie|\n",
            "+-------+\n",
            "\n"
          ]
        }
      ]
    },
    {
      "cell_type": "code",
      "source": [
        "df.filter(col(\"Edad\") >= 25).show()"
      ],
      "metadata": {
        "colab": {
          "base_uri": "https://localhost:8080/"
        },
        "id": "IqW-A_dCdNYT",
        "outputId": "aceb8484-d201-4605-8d64-635f553db680"
      },
      "execution_count": 4,
      "outputs": [
        {
          "output_type": "stream",
          "name": "stdout",
          "text": [
            "+------+----+-----------+\n",
            "|Nombre|Edad|     Ciudad|\n",
            "+------+----+-----------+\n",
            "| Alice|  25|   New York|\n",
            "|   Bob|  30|Los Angeles|\n",
            "+------+----+-----------+\n",
            "\n"
          ]
        }
      ]
    },
    {
      "cell_type": "code",
      "source": [
        "from pyspark.sql.functions import lit\n",
        "\n",
        "df_with_country = df.withColumn(\"Pais\", lit(\"USA\"))\n",
        "df_with_country.show()"
      ],
      "metadata": {
        "colab": {
          "base_uri": "https://localhost:8080/"
        },
        "id": "YZsby4kEdR06",
        "outputId": "48222102-d21c-4be6-f01c-abf29b1f4bca"
      },
      "execution_count": 5,
      "outputs": [
        {
          "output_type": "stream",
          "name": "stdout",
          "text": [
            "+-------+----+-----------+----+\n",
            "| Nombre|Edad|     Ciudad|Pais|\n",
            "+-------+----+-----------+----+\n",
            "|  Alice|  25|   New York| USA|\n",
            "|    Bob|  30|Los Angeles| USA|\n",
            "|Charlie|  22|    Chicago| USA|\n",
            "+-------+----+-----------+----+\n",
            "\n"
          ]
        }
      ]
    },
    {
      "cell_type": "code",
      "source": [
        "df.agg(avg(\"Edad\")).show()"
      ],
      "metadata": {
        "colab": {
          "base_uri": "https://localhost:8080/"
        },
        "id": "CT213XczdZHf",
        "outputId": "f6b6f6d5-dc05-4f8c-9641-455bc47de3dd"
      },
      "execution_count": 6,
      "outputs": [
        {
          "output_type": "stream",
          "name": "stdout",
          "text": [
            "+------------------+\n",
            "|         avg(Edad)|\n",
            "+------------------+\n",
            "|25.666666666666668|\n",
            "+------------------+\n",
            "\n"
          ]
        }
      ]
    },
    {
      "cell_type": "code",
      "source": [
        "df.orderBy(col(\"Edad\").desc()).show()"
      ],
      "metadata": {
        "colab": {
          "base_uri": "https://localhost:8080/"
        },
        "id": "M10wCwbtdfz2",
        "outputId": "f288a3dd-0d8c-4d3c-ccaf-8c6e95d05443"
      },
      "execution_count": 7,
      "outputs": [
        {
          "output_type": "stream",
          "name": "stdout",
          "text": [
            "+-------+----+-----------+\n",
            "| Nombre|Edad|     Ciudad|\n",
            "+-------+----+-----------+\n",
            "|    Bob|  30|Los Angeles|\n",
            "|  Alice|  25|   New York|\n",
            "|Charlie|  22|    Chicago|\n",
            "+-------+----+-----------+\n",
            "\n"
          ]
        }
      ]
    },
    {
      "cell_type": "code",
      "source": [
        "df.groupBy(\"Ciudad\").agg(count(\"Nombre\").alias(\"CantidadPersonas\")).show()"
      ],
      "metadata": {
        "colab": {
          "base_uri": "https://localhost:8080/"
        },
        "id": "xMBzlIpjdsF3",
        "outputId": "0e2d63fe-0de1-41c0-f44b-2a4357baa4ee"
      },
      "execution_count": 8,
      "outputs": [
        {
          "output_type": "stream",
          "name": "stdout",
          "text": [
            "+-----------+----------------+\n",
            "|     Ciudad|CantidadPersonas|\n",
            "+-----------+----------------+\n",
            "|Los Angeles|               1|\n",
            "|    Chicago|               1|\n",
            "|   New York|               1|\n",
            "+-----------+----------------+\n",
            "\n"
          ]
        }
      ]
    },
    {
      "cell_type": "code",
      "source": [
        "df_renamed = df.withColumnRenamed(\"Nombre\", \"NombreCompleto\")\n",
        "df_renamed.show()"
      ],
      "metadata": {
        "colab": {
          "base_uri": "https://localhost:8080/"
        },
        "id": "bRJxreW5dy55",
        "outputId": "284d1a6b-bcca-4f6e-c746-976f8ee242ab"
      },
      "execution_count": 9,
      "outputs": [
        {
          "output_type": "stream",
          "name": "stdout",
          "text": [
            "+--------------+----+-----------+\n",
            "|NombreCompleto|Edad|     Ciudad|\n",
            "+--------------+----+-----------+\n",
            "|         Alice|  25|   New York|\n",
            "|           Bob|  30|Los Angeles|\n",
            "|       Charlie|  22|    Chicago|\n",
            "+--------------+----+-----------+\n",
            "\n"
          ]
        }
      ]
    },
    {
      "cell_type": "code",
      "source": [
        "df_without_age = df.drop(\"Edad\")\n",
        "df_without_age.show()"
      ],
      "metadata": {
        "colab": {
          "base_uri": "https://localhost:8080/"
        },
        "id": "VOTLgkINd0Af",
        "outputId": "ac62b7b5-7f43-42f4-9b01-8d3224ea8a4e"
      },
      "execution_count": 10,
      "outputs": [
        {
          "output_type": "stream",
          "name": "stdout",
          "text": [
            "+-------+-----------+\n",
            "| Nombre|     Ciudad|\n",
            "+-------+-----------+\n",
            "|  Alice|   New York|\n",
            "|    Bob|Los Angeles|\n",
            "|Charlie|    Chicago|\n",
            "+-------+-----------+\n",
            "\n"
          ]
        }
      ]
    },
    {
      "cell_type": "code",
      "source": [
        "df.createOrReplaceTempView(\"personas\")\n",
        "\n",
        "result = spark.sql(\"SELECT * FROM personas WHERE Edad > 20\")\n",
        "result.show()"
      ],
      "metadata": {
        "colab": {
          "base_uri": "https://localhost:8080/"
        },
        "id": "TSoKxNdud4TP",
        "outputId": "34236c11-6701-44b2-c20f-a407421bcbfe"
      },
      "execution_count": 11,
      "outputs": [
        {
          "output_type": "stream",
          "name": "stdout",
          "text": [
            "+-------+----+-----------+\n",
            "| Nombre|Edad|     Ciudad|\n",
            "+-------+----+-----------+\n",
            "|  Alice|  25|   New York|\n",
            "|    Bob|  30|Los Angeles|\n",
            "|Charlie|  22|    Chicago|\n",
            "+-------+----+-----------+\n",
            "\n"
          ]
        }
      ]
    },
    {
      "cell_type": "code",
      "source": [
        "df.select(\"Edad\").agg(sum(\"Edad\")).show()"
      ],
      "metadata": {
        "colab": {
          "base_uri": "https://localhost:8080/"
        },
        "id": "B8QVA9GbeBaI",
        "outputId": "914882e1-6ed6-4ae8-c58c-4fa2bc4d0c09"
      },
      "execution_count": 12,
      "outputs": [
        {
          "output_type": "stream",
          "name": "stdout",
          "text": [
            "+---------+\n",
            "|sum(Edad)|\n",
            "+---------+\n",
            "|       77|\n",
            "+---------+\n",
            "\n"
          ]
        }
      ]
    },
    {
      "cell_type": "code",
      "source": [
        "df.agg(min(\"Edad\"), max(\"Edad\")).show()"
      ],
      "metadata": {
        "colab": {
          "base_uri": "https://localhost:8080/"
        },
        "id": "0Hh8Ux6eeFhM",
        "outputId": "05441a35-e95d-4e84-9e57-bfbaea316663"
      },
      "execution_count": 13,
      "outputs": [
        {
          "output_type": "stream",
          "name": "stdout",
          "text": [
            "+---------+---------+\n",
            "|min(Edad)|max(Edad)|\n",
            "+---------+---------+\n",
            "|       22|       30|\n",
            "+---------+---------+\n",
            "\n"
          ]
        }
      ]
    },
    {
      "cell_type": "code",
      "source": [
        "df.filter((col(\"Ciudad\") == \"Chicago\") & (col(\"Edad\") < 30)).show()"
      ],
      "metadata": {
        "colab": {
          "base_uri": "https://localhost:8080/"
        },
        "id": "a0ppL7VahH4s",
        "outputId": "dcb825b0-6add-44fa-f74b-0c824f8839a5"
      },
      "execution_count": 14,
      "outputs": [
        {
          "output_type": "stream",
          "name": "stdout",
          "text": [
            "+-------+----+-------+\n",
            "| Nombre|Edad| Ciudad|\n",
            "+-------+----+-------+\n",
            "|Charlie|  22|Chicago|\n",
            "+-------+----+-------+\n",
            "\n"
          ]
        }
      ]
    },
    {
      "cell_type": "code",
      "source": [
        "df_with_age_double = df.withColumn(\"EdadDuplicada\", col(\"Edad\") * 2)\n",
        "df_with_age_double.show()\n"
      ],
      "metadata": {
        "colab": {
          "base_uri": "https://localhost:8080/"
        },
        "id": "NmGYNZ9dhNFp",
        "outputId": "826207fc-0e2a-4843-c5ca-05aae6a37509"
      },
      "execution_count": 15,
      "outputs": [
        {
          "output_type": "stream",
          "name": "stdout",
          "text": [
            "+-------+----+-----------+-------------+\n",
            "| Nombre|Edad|     Ciudad|EdadDuplicada|\n",
            "+-------+----+-----------+-------------+\n",
            "|  Alice|  25|   New York|           50|\n",
            "|    Bob|  30|Los Angeles|           60|\n",
            "|Charlie|  22|    Chicago|           44|\n",
            "+-------+----+-----------+-------------+\n",
            "\n"
          ]
        }
      ]
    },
    {
      "cell_type": "code",
      "source": [
        "df_with_age_in_months = df.withColumn(\"EdadEnMeses\", col(\"Edad\") * 12)\n",
        "df_with_age_in_months.show()"
      ],
      "metadata": {
        "colab": {
          "base_uri": "https://localhost:8080/"
        },
        "id": "M9dY43PghRdG",
        "outputId": "d3e7893a-a0ac-4ffb-aed3-83b56e8e0a9d"
      },
      "execution_count": 16,
      "outputs": [
        {
          "output_type": "stream",
          "name": "stdout",
          "text": [
            "+-------+----+-----------+-----------+\n",
            "| Nombre|Edad|     Ciudad|EdadEnMeses|\n",
            "+-------+----+-----------+-----------+\n",
            "|  Alice|  25|   New York|        300|\n",
            "|    Bob|  30|Los Angeles|        360|\n",
            "|Charlie|  22|    Chicago|        264|\n",
            "+-------+----+-----------+-----------+\n",
            "\n"
          ]
        }
      ]
    },
    {
      "cell_type": "code",
      "source": [
        "df.count()"
      ],
      "metadata": {
        "colab": {
          "base_uri": "https://localhost:8080/"
        },
        "id": "fxkFia55hYKX",
        "outputId": "975636e6-f0b9-4efc-cb21-29ff92b070c3"
      },
      "execution_count": 17,
      "outputs": [
        {
          "output_type": "execute_result",
          "data": {
            "text/plain": [
              "3"
            ]
          },
          "metadata": {},
          "execution_count": 17
        }
      ]
    },
    {
      "cell_type": "code",
      "source": [
        "df.filter(col(\"Edad\") % 2 == 0).show()"
      ],
      "metadata": {
        "colab": {
          "base_uri": "https://localhost:8080/"
        },
        "id": "-poLMphUhdvn",
        "outputId": "e5552b92-e896-4036-dd4c-af296c10a5cb"
      },
      "execution_count": 18,
      "outputs": [
        {
          "output_type": "stream",
          "name": "stdout",
          "text": [
            "+-------+----+-----------+\n",
            "| Nombre|Edad|     Ciudad|\n",
            "+-------+----+-----------+\n",
            "|    Bob|  30|Los Angeles|\n",
            "|Charlie|  22|    Chicago|\n",
            "+-------+----+-----------+\n",
            "\n"
          ]
        }
      ]
    },
    {
      "cell_type": "code",
      "source": [
        "from pyspark.sql.functions import StringType\n",
        "\n",
        "def edad_categoria(edad):\n",
        "    if edad <= 20:\n",
        "        return \"0-20\"\n",
        "    elif 21 <= edad <= 40:\n",
        "        return \"21-40\"\n",
        "    elif 41 <= edad <= 60:\n",
        "        return \"41-60\"\n",
        "    else:\n",
        "        return \"61+\"\n",
        "\n",
        "edad_categoria_udf = udf(edad_categoria, StringType())\n",
        "\n",
        "df_with_category = df.withColumn(\"RangoEdad\", edad_categoria_udf(col(\"Edad\")))\n",
        "df_with_category.groupBy(\"RangoEdad\").agg(count(\"Nombre\").alias(\"Cantidad\")).show()"
      ],
      "metadata": {
        "colab": {
          "base_uri": "https://localhost:8080/"
        },
        "id": "xmKylfrqhhpX",
        "outputId": "b04463f8-1d2c-41a2-8487-fd6ee212740d"
      },
      "execution_count": 19,
      "outputs": [
        {
          "output_type": "stream",
          "name": "stdout",
          "text": [
            "+---------+--------+\n",
            "|RangoEdad|Cantidad|\n",
            "+---------+--------+\n",
            "|    21-40|       3|\n",
            "+---------+--------+\n",
            "\n"
          ]
        }
      ]
    },
    {
      "cell_type": "code",
      "source": [
        "df.groupBy(\"Nombre\").agg(count(\"Nombre\").alias(\"Cantidad\")).show()"
      ],
      "metadata": {
        "colab": {
          "base_uri": "https://localhost:8080/"
        },
        "id": "3JwppsPshmom",
        "outputId": "53aa76ef-3313-4504-8d02-d60550a2d3b7"
      },
      "execution_count": 20,
      "outputs": [
        {
          "output_type": "stream",
          "name": "stdout",
          "text": [
            "+-------+--------+\n",
            "| Nombre|Cantidad|\n",
            "+-------+--------+\n",
            "|Charlie|       1|\n",
            "|    Bob|       1|\n",
            "|  Alice|       1|\n",
            "+-------+--------+\n",
            "\n"
          ]
        }
      ]
    },
    {
      "cell_type": "code",
      "source": [
        "from pyspark.sql.functions import concat_ws\n",
        "\n",
        "df_with_info = df.withColumn(\"InformacionPersonal\", concat_ws(\" - \", col(\"Nombre\"), col(\"Ciudad\")))\n",
        "df_with_info.show()"
      ],
      "metadata": {
        "colab": {
          "base_uri": "https://localhost:8080/"
        },
        "id": "qpRNMarGhtm5",
        "outputId": "01187a06-6c93-4c68-b36e-a87f298eaa77"
      },
      "execution_count": 21,
      "outputs": [
        {
          "output_type": "stream",
          "name": "stdout",
          "text": [
            "+-------+----+-----------+-------------------+\n",
            "| Nombre|Edad|     Ciudad|InformacionPersonal|\n",
            "+-------+----+-----------+-------------------+\n",
            "|  Alice|  25|   New York|   Alice - New York|\n",
            "|    Bob|  30|Los Angeles|  Bob - Los Angeles|\n",
            "|Charlie|  22|    Chicago|  Charlie - Chicago|\n",
            "+-------+----+-----------+-------------------+\n",
            "\n"
          ]
        }
      ]
    },
    {
      "cell_type": "code",
      "source": [],
      "metadata": {
        "id": "aQoqG0tlhxcf"
      },
      "execution_count": 21,
      "outputs": []
    }
  ]
}